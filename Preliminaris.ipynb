{
 "cells": [
  {
   "cell_type": "markdown",
   "id": "0433cff6-f52a-4e32-9dad-71d30a5a1671",
   "metadata": {},
   "source": [
    "# 2.1 Data Manipulation "
   ]
  },
  {
   "cell_type": "code",
   "execution_count": 1,
   "id": "26c1021d-1094-407d-9082-5e051d5dea9f",
   "metadata": {},
   "outputs": [],
   "source": [
    "import torch"
   ]
  },
  {
   "cell_type": "code",
   "execution_count": 5,
   "id": "75d34489-ba0c-43dc-810e-0cac62045b2f",
   "metadata": {},
   "outputs": [
    {
     "name": "stdout",
     "output_type": "stream",
     "text": [
      "tensor([ 0.,  1.,  2.,  3.,  4.,  5.,  6.,  7.,  8.,  9., 10., 11.])\n"
     ]
    }
   ],
   "source": [
    "x = torch.arange(12,dtype = torch.float32)\n",
    "x"
   ]
  },
  {
   "cell_type": "code",
   "execution_count": 6,
   "id": "64d7230e-4336-499e-97c7-7761c96dbda9",
   "metadata": {},
   "outputs": [
    {
     "data": {
      "text/plain": [
       "12"
      ]
     },
     "execution_count": 6,
     "metadata": {},
     "output_type": "execute_result"
    }
   ],
   "source": [
    "x.numel()"
   ]
  },
  {
   "cell_type": "code",
   "execution_count": 7,
   "id": "cad8c48a-8a38-4a9b-9c3a-74eb6c3a4b3d",
   "metadata": {},
   "outputs": [
    {
     "data": {
      "text/plain": [
       "torch.Size([12])"
      ]
     },
     "execution_count": 7,
     "metadata": {},
     "output_type": "execute_result"
    }
   ],
   "source": [
    "x.shape"
   ]
  },
  {
   "cell_type": "code",
   "execution_count": 9,
   "id": "87d4b06b-c808-4f2a-a31b-f808f0b9cfe5",
   "metadata": {},
   "outputs": [
    {
     "data": {
      "text/plain": [
       "tensor([[ 0.,  1.,  2.,  3.],\n",
       "        [ 4.,  5.,  6.,  7.],\n",
       "        [ 8.,  9., 10., 11.]])"
      ]
     },
     "execution_count": 9,
     "metadata": {},
     "output_type": "execute_result"
    }
   ],
   "source": [
    "x = x.reshape([3,4]) # x.reshape([3,-1]) or x.reshape([-1,4])\n",
    "x"
   ]
  },
  {
   "cell_type": "code",
   "execution_count": 11,
   "id": "27a2276b-606f-4b21-b177-aa0758c0c710",
   "metadata": {},
   "outputs": [
    {
     "data": {
      "text/plain": [
       "tensor([[[0., 0., 0., 0.],\n",
       "         [0., 0., 0., 0.],\n",
       "         [0., 0., 0., 0.]],\n",
       "\n",
       "        [[0., 0., 0., 0.],\n",
       "         [0., 0., 0., 0.],\n",
       "         [0., 0., 0., 0.]]])"
      ]
     },
     "execution_count": 11,
     "metadata": {},
     "output_type": "execute_result"
    }
   ],
   "source": [
    "torch.zeros([2,3,4])"
   ]
  },
  {
   "cell_type": "code",
   "execution_count": 12,
   "id": "cf4e06f1-12df-4ead-86ba-ffa92c14405d",
   "metadata": {},
   "outputs": [
    {
     "data": {
      "text/plain": [
       "tensor([[[1., 1., 1., 1.],\n",
       "         [1., 1., 1., 1.],\n",
       "         [1., 1., 1., 1.]],\n",
       "\n",
       "        [[1., 1., 1., 1.],\n",
       "         [1., 1., 1., 1.],\n",
       "         [1., 1., 1., 1.]]])"
      ]
     },
     "execution_count": 12,
     "metadata": {},
     "output_type": "execute_result"
    }
   ],
   "source": [
    "torch.ones([2,3,4])"
   ]
  },
  {
   "cell_type": "code",
   "execution_count": 14,
   "id": "b8add1f5-b042-4a9e-97f3-51ac5d2338e3",
   "metadata": {},
   "outputs": [
    {
     "data": {
      "text/plain": [
       "tensor([[[0.6922, 0.4296, 0.8058, 0.7119],\n",
       "         [0.1836, 0.0728, 0.3549, 0.4821],\n",
       "         [0.2651, 0.8654, 0.2976, 0.2603]],\n",
       "\n",
       "        [[0.6068, 0.5840, 0.3182, 0.2139],\n",
       "         [0.8348, 0.8343, 0.9720, 0.7006],\n",
       "         [0.2547, 0.2830, 0.3248, 0.6117]]])"
      ]
     },
     "execution_count": 14,
     "metadata": {},
     "output_type": "execute_result"
    }
   ],
   "source": [
    "torch.rand([2,3,4])"
   ]
  },
  {
   "cell_type": "code",
   "execution_count": 16,
   "id": "5bdf13e2-d4b9-43bc-864a-9af88c4be3e5",
   "metadata": {},
   "outputs": [
    {
     "data": {
      "text/plain": [
       "tensor([[1, 2],\n",
       "        [3, 4]])"
      ]
     },
     "execution_count": 16,
     "metadata": {},
     "output_type": "execute_result"
    }
   ],
   "source": [
    "#condstruct by list\n",
    "torch.tensor([[1,2],[3,4]])"
   ]
  },
  {
   "cell_type": "code",
   "execution_count": 19,
   "id": "2ebbc55f-6f6b-4568-8c7e-dbee675cdb3f",
   "metadata": {},
   "outputs": [
    {
     "data": {
      "text/plain": [
       "(tensor([[ 0,  1,  2,  3],\n",
       "         [ 4,  5,  6,  7],\n",
       "         [ 8,  9, 10, 11]]),\n",
       " tensor([ 8,  9, 10, 11]),\n",
       " tensor([[ 4,  5,  6,  7],\n",
       "         [ 8,  9, 10, 11]]))"
      ]
     },
     "execution_count": 19,
     "metadata": {},
     "output_type": "execute_result"
    }
   ],
   "source": [
    "# indexing and slicing \n",
    "X = torch.arange(12).reshape([3,4])\n",
    "X,X[-1],X[1:3]"
   ]
  },
  {
   "cell_type": "code",
   "execution_count": 21,
   "id": "19b7e918-5a11-4199-b472-b2ae44496d95",
   "metadata": {},
   "outputs": [
    {
     "data": {
      "text/plain": [
       "tensor([[ 0,  1,  2,  3],\n",
       "        [ 4,  5, 14,  7],\n",
       "        [ 8,  9, 10, 11]])"
      ]
     },
     "execution_count": 21,
     "metadata": {},
     "output_type": "execute_result"
    }
   ],
   "source": [
    "X[1,2] = 14\n",
    "X"
   ]
  },
  {
   "cell_type": "code",
   "execution_count": 22,
   "id": "c4271ccb-c993-4763-85dd-ab73d5d36029",
   "metadata": {},
   "outputs": [
    {
     "data": {
      "text/plain": [
       "tensor([[12, 12, 12, 12],\n",
       "        [12, 12, 12, 12],\n",
       "        [ 8,  9, 10, 11]])"
      ]
     },
     "execution_count": 22,
     "metadata": {},
     "output_type": "execute_result"
    }
   ],
   "source": [
    "X[:2,] = 12\n",
    "X"
   ]
  },
  {
   "cell_type": "code",
   "execution_count": 23,
   "id": "74bc551f-a945-4689-8fc1-725c1663a2bd",
   "metadata": {},
   "outputs": [
    {
     "data": {
      "text/plain": [
       "(tensor([[ 0.,  1.,  2.,  3.],\n",
       "         [ 4.,  5.,  6.,  7.],\n",
       "         [ 8.,  9., 10., 11.]]),\n",
       " tensor([[1.0000e+00, 2.7183e+00, 7.3891e+00, 2.0086e+01],\n",
       "         [5.4598e+01, 1.4841e+02, 4.0343e+02, 1.0966e+03],\n",
       "         [2.9810e+03, 8.1031e+03, 2.2026e+04, 5.9874e+04]]))"
      ]
     },
     "execution_count": 23,
     "metadata": {},
     "output_type": "execute_result"
    }
   ],
   "source": [
    "x,torch.exp(x)"
   ]
  },
  {
   "cell_type": "code",
   "execution_count": 24,
   "id": "77bf7a11-7d7c-4bc7-9849-ec87e0c0166d",
   "metadata": {},
   "outputs": [
    {
     "data": {
      "text/plain": [
       "(tensor([2, 4, 6, 8]),\n",
       " tensor([0, 0, 0, 0]),\n",
       " tensor([ 1,  4,  9, 16]),\n",
       " tensor([  1,   4,  27, 256]))"
      ]
     },
     "execution_count": 24,
     "metadata": {},
     "output_type": "execute_result"
    }
   ],
   "source": [
    "x = torch.tensor([1,2,3,4])\n",
    "y = torch.tensor([1,2,3,4])\n",
    "x + y, x - y, x * y, x**y #by elementary"
   ]
  },
  {
   "cell_type": "code",
   "execution_count": 27,
   "id": "c1154bbd-a004-4732-8671-25289bf01e88",
   "metadata": {},
   "outputs": [
    {
     "data": {
      "text/plain": [
       "(tensor([ 1,  4,  9, 16]), tensor(30))"
      ]
     },
     "execution_count": 27,
     "metadata": {},
     "output_type": "execute_result"
    }
   ],
   "source": [
    "x * y.T,x @ y.T # 一维向量的转置还是一维向量"
   ]
  },
  {
   "cell_type": "code",
   "execution_count": 28,
   "id": "000fe67c-be11-4f38-937e-955850b49c98",
   "metadata": {},
   "outputs": [
    {
     "data": {
      "text/plain": [
       "tensor([1, 2, 3, 4])"
      ]
     },
     "execution_count": 28,
     "metadata": {},
     "output_type": "execute_result"
    }
   ],
   "source": []
  },
  {
   "cell_type": "code",
   "execution_count": 30,
   "id": "87012f64-4599-45a2-add4-88b2ec5179ce",
   "metadata": {},
   "outputs": [
    {
     "data": {
      "text/plain": [
       "(torch.Size([4, 3, 4]), torch.Size([2, 6, 4]), torch.Size([2, 3, 8]))"
      ]
     },
     "execution_count": 30,
     "metadata": {},
     "output_type": "execute_result"
    }
   ],
   "source": [
    "#对于维度进行cat时，可以理解为指定维度的数量相加\n",
    "x = torch.arange(24).reshape([2,3,4])\n",
    "y = torch.arange(24).reshape([2,3,4])\n",
    "torch.cat((x,y),dim=0).shape,torch.cat((x,y),dim=1).shape,torch.cat((x,y),dim=2).shape\n",
    "#4,3,4;2,6,4;2,3,8"
   ]
  },
  {
   "cell_type": "code",
   "execution_count": 31,
   "id": "d46fa5e6-d1df-43b3-857c-d2d2f0d12152",
   "metadata": {},
   "outputs": [
    {
     "data": {
      "text/plain": [
       "tensor([[[True, True, True, True],\n",
       "         [True, True, True, True],\n",
       "         [True, True, True, True]],\n",
       "\n",
       "        [[True, True, True, True],\n",
       "         [True, True, True, True],\n",
       "         [True, True, True, True]]])"
      ]
     },
     "execution_count": 31,
     "metadata": {},
     "output_type": "execute_result"
    }
   ],
   "source": [
    "x == y"
   ]
  },
  {
   "cell_type": "code",
   "execution_count": 33,
   "id": "d7f206a9-93a8-421f-b517-36ee37460efc",
   "metadata": {},
   "outputs": [
    {
     "data": {
      "text/plain": [
       "tensor([[0, 1],\n",
       "        [1, 2],\n",
       "        [2, 3]])"
      ]
     },
     "execution_count": 33,
     "metadata": {},
     "output_type": "execute_result"
    }
   ],
   "source": [
    "# Broadcasting是非常重要的功能，在低维的时候好理解，但在高纬时就很抽象了\n",
    "a = torch.arange(3).reshape((3,1)) #tuple\n",
    "b = torch.arange(2).reshape([1,2]) #list\n",
    "a + b"
   ]
  },
  {
   "cell_type": "code",
   "execution_count": null,
   "id": "0e69bf65-dcab-4db8-8a1d-8f22c8bfb275",
   "metadata": {},
   "outputs": [],
   "source": [
    "# saving memory \n",
    "# in place操作，但是很奇怪的一点是在实际使用的额时候应用的不多呢，文中描述的形式\n",
    "# 另一种in place的方式是add_()这种形式。"
   ]
  },
  {
   "cell_type": "code",
   "execution_count": 34,
   "id": "18eff02a-2ead-455c-87ce-53de93abb8b8",
   "metadata": {},
   "outputs": [
    {
     "data": {
      "text/plain": [
       "(numpy.ndarray, torch.Tensor)"
      ]
     },
     "execution_count": 34,
     "metadata": {},
     "output_type": "execute_result"
    }
   ],
   "source": [
    "# 可以从numpy直接转换成tensor，这一点在本章的最开始也说了，现有的机器学习框架是在numpy的基础上实现的，\n",
    "# 额外添加的功能就是自动求导，使其可以更方便的计算梯度\n",
    "A = X.numpy()\n",
    "B = torch.from_numpy(A)\n",
    "type(A),type(B)"
   ]
  },
  {
   "cell_type": "markdown",
   "id": "c5953286-a6ef-4afc-96f6-b394f5c7ae51",
   "metadata": {},
   "source": [
    "# Data Processing \n",
    "\n",
    "这部分的内容跳过了，主要讲的pandas的使用方法，或者说讲的是对于野生的数据集要怎么处理，因为已经有了pandas的使用经验，所以不再赘述。"
   ]
  },
  {
   "cell_type": "markdown",
   "id": "d082d2bb-429c-4f47-81d5-3f444d16aa80",
   "metadata": {},
   "source": [
    "# Liner Alhebra"
   ]
  },
  {
   "cell_type": "code",
   "execution_count": null,
   "id": "3606768d-a0d8-4d46-ac5f-8ad09c4c8e1a",
   "metadata": {},
   "outputs": [],
   "source": []
  }
 ],
 "metadata": {
  "kernelspec": {
   "display_name": "Python 3 (ipykernel)",
   "language": "python",
   "name": "python3"
  },
  "language_info": {
   "codemirror_mode": {
    "name": "ipython",
    "version": 3
   },
   "file_extension": ".py",
   "mimetype": "text/x-python",
   "name": "python",
   "nbconvert_exporter": "python",
   "pygments_lexer": "ipython3",
   "version": "3.12.7"
  }
 },
 "nbformat": 4,
 "nbformat_minor": 5
}
